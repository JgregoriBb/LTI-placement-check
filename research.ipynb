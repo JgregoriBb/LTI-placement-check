{
 "cells": [
  {
   "cell_type": "markdown",
   "metadata": {},
   "source": [
    "## Jupyter notebook for quick research and testing"
   ]
  },
  {
   "cell_type": "code",
   "execution_count": 1,
   "metadata": {},
   "outputs": [
    {
     "name": "stdout",
     "output_type": "stream",
     "text": [
      "B3PI6keytKmFG9ilWUK0eSLWPuSenbJm https://emeasedemo.blackboard.com\n"
     ]
    }
   ],
   "source": [
    "#imports.\n",
    "from Bb_rest_helper import Bb_Utils\n",
    "from Bb_rest_helper import Get_Config\n",
    "from Bb_rest_helper import Auth_Helper\n",
    "from Bb_rest_helper import Bb_Requests\n",
    "\n",
    "#logging and utils initialization.\n",
    "utils = Bb_Utils()\n",
    "utils.set_logging()\n",
    "\n",
    "#Authenticate and get the token (Learn).\n",
    "quick_auth_learn = utils.quick_auth('./credentials/config.json','Learn')\n",
    "\n",
    "#Retrieve token and server url\n",
    "learn_token = quick_auth_learn['token']\n",
    "learn_url = quick_auth_learn['url']\n",
    "\n",
    "print(learn_token,learn_url)\n",
    "\n",
    "#Initialize Rest API calls\n",
    "reqs = Bb_Requests()"
   ]
  },
  {
   "cell_type": "code",
   "execution_count": null,
   "metadata": {},
   "outputs": [],
   "source": [
    "# Code here\n",
    "\n",
    "[{'id': '_19545_1', 'parentId': '_19539_1', 'title': 'New LTI Link 22/04/2019', 'created': '2019-04-22T20:38:44.961Z', 'modified': '2019-04-22T20:38:44.967Z', 'position': 0, 'hasGradebookColumns': True, 'launchInNewWindow': False, 'reviewable': False, 'availability': {'available': 'No', 'allowGuests': True, 'allowObservers': True, 'adaptiveRelease': {}}, 'contentHandler': {'id': 'resource/x-bb-blti-link', 'url': 'https://sandbox.turnitin.com', 'grading': {'due': '2019-04-23T20:38:36.164Z', 'visible': False}, 'score': {'possible': 100.0}}, 'links': [{'href': '/ultra/redirect?redirectType=nautilus&courseId=_509_1&contentId=_19545_1&parentId=_19539_1', 'rel': 'alternate', 'title': 'User Interface View', 'type': 'text/html'}]}]\n",
    "\n",
    "\n",
    "                    'LTI_url':L[\"url\"],\n",
    "                    'LTI_link':L[\"links\"][\"hrf\"],\n",
    "                    'LTI_has_grade_col':L[\"hasGradebookColumns\"],"
   ]
  }
 ],
 "metadata": {
  "kernelspec": {
   "display_name": "Python 3.9.4 64-bit",
   "language": "python",
   "name": "python3"
  },
  "language_info": {
   "codemirror_mode": {
    "name": "ipython",
    "version": 3
   },
   "file_extension": ".py",
   "mimetype": "text/x-python",
   "name": "python",
   "nbconvert_exporter": "python",
   "pygments_lexer": "ipython3",
   "version": "3.9.4"
  },
  "orig_nbformat": 4,
  "vscode": {
   "interpreter": {
    "hash": "aee8b7b246df8f9039afb4144a1f6fd8d2ca17a180786b69acc140d282b71a49"
   }
  }
 },
 "nbformat": 4,
 "nbformat_minor": 2
}
